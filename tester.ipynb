{
 "cells": [
  {
   "cell_type": "code",
   "execution_count": 4,
   "metadata": {},
   "outputs": [
    {
     "ename": "ValueError",
     "evalue": "vector too long",
     "output_type": "error",
     "traceback": [
      "\u001b[1;31m---------------------------------------------------------------------------\u001b[0m",
      "\u001b[1;31mValueError\u001b[0m                                Traceback (most recent call last)",
      "Cell \u001b[1;32mIn[4], line 10\u001b[0m\n\u001b[0;32m      8\u001b[0m \u001b[39m# Load the TensorFlow Lite model\u001b[39;00m\n\u001b[0;32m      9\u001b[0m interpreter \u001b[39m=\u001b[39m tf\u001b[39m.\u001b[39mlite\u001b[39m.\u001b[39mInterpreter(model_path\u001b[39m=\u001b[39mtflite_model_path)\n\u001b[1;32m---> 10\u001b[0m interpreter\u001b[39m.\u001b[39;49mallocate_tensors()\n\u001b[0;32m     12\u001b[0m \u001b[39m# Get input and output tensors\u001b[39;00m\n\u001b[0;32m     13\u001b[0m input_details \u001b[39m=\u001b[39m interpreter\u001b[39m.\u001b[39mget_input_details()\n",
      "File \u001b[1;32mc:\\Users\\aaaab\\.pyenv\\pyenv-win\\versions\\3.10.9\\lib\\site-packages\\tensorflow\\lite\\python\\interpreter.py:513\u001b[0m, in \u001b[0;36mInterpreter.allocate_tensors\u001b[1;34m(self)\u001b[0m\n\u001b[0;32m    511\u001b[0m \u001b[39mdef\u001b[39;00m \u001b[39mallocate_tensors\u001b[39m(\u001b[39mself\u001b[39m):\n\u001b[0;32m    512\u001b[0m   \u001b[39mself\u001b[39m\u001b[39m.\u001b[39m_ensure_safe()\n\u001b[1;32m--> 513\u001b[0m   \u001b[39mreturn\u001b[39;00m \u001b[39mself\u001b[39;49m\u001b[39m.\u001b[39;49m_interpreter\u001b[39m.\u001b[39;49mAllocateTensors()\n",
      "\u001b[1;31mValueError\u001b[0m: vector too long"
     ]
    },
    {
     "ename": "",
     "evalue": "",
     "output_type": "error",
     "traceback": [
      "\u001b[1;31mThe Kernel crashed while executing code in the the current cell or a previous cell. Please review the code in the cell(s) to identify a possible cause of the failure. Click <a href='https://aka.ms/vscodeJupyterKernelCrash'>here</a> for more info. View Jupyter <a href='command:jupyter.viewOutput'>log</a> for further details."
     ]
    }
   ],
   "source": [
    "import cv2\n",
    "import numpy as np\n",
    "import tensorflow as tf\n",
    "\n",
    "# Specify the path to the .tflite model file\n",
    "tflite_model_path = 'model.tflite'\n",
    "\n",
    "# Load the TensorFlow Lite model\n",
    "interpreter = tf.lite.Interpreter(model_path=tflite_model_path)\n",
    "interpreter.allocate_tensors()\n",
    "\n",
    "# Get input and output tensors\n",
    "input_details = interpreter.get_input_details()\n",
    "output_details = interpreter.get_output_details()\n",
    "\n",
    "# Open a video capture object to capture frames from the webcam\n",
    "cap = cv2.VideoCapture(0)\n",
    "\n",
    "# Set the resolution of the captured frames\n",
    "cap.set(cv2.CAP_PROP_FRAME_WIDTH, 640)\n",
    "cap.set(cv2.CAP_PROP_FRAME_HEIGHT, 480)\n",
    "\n",
    "while True:\n",
    "    # Capture a frame from the webcam\n",
    "    ret, frame = cap.read()\n",
    "    if not ret:\n",
    "        break\n",
    "\n",
    "    # Preprocess the frame for the model\n",
    "    input_shape = input_details[0]['shape']\n",
    "    frame_resized = cv2.resize(frame, (input_shape[2], input_shape[1]))\n",
    "    frame_normalized = (frame_resized.astype(np.float32) / 127.5) - 1.0\n",
    "\n",
    "    # Set the input tensor data\n",
    "    interpreter.set_tensor(input_details[0]['index'], [frame_normalized])\n",
    "\n",
    "    # Run inference on the model\n",
    "    interpreter.invoke()\n",
    "\n",
    "    # Get the output tensor data\n",
    "    output_data = interpreter.get_tensor(output_details[0]['index'])\n",
    "\n",
    "    # Print the output data\n",
    "    print(output_data)\n",
    "\n",
    "    # Show the frame\n",
    "    cv2.imshow('frame', frame)\n",
    "\n",
    "    # Exit the loop if 'q' is pressed\n",
    "    if cv2.waitKey(1) == ord('q'):\n",
    "        break\n",
    "\n",
    "# Release the video capture object and close the window\n",
    "cap.release()\n",
    "cv2.destroyAllWindows()\n"
   ]
  },
  {
   "cell_type": "code",
   "execution_count": null,
   "metadata": {},
   "outputs": [],
   "source": []
  },
  {
   "cell_type": "code",
   "execution_count": null,
   "metadata": {},
   "outputs": [],
   "source": []
  }
 ],
 "metadata": {
  "kernelspec": {
   "display_name": "Python 3",
   "language": "python",
   "name": "python3"
  },
  "language_info": {
   "codemirror_mode": {
    "name": "ipython",
    "version": 3
   },
   "file_extension": ".py",
   "mimetype": "text/x-python",
   "name": "python",
   "nbconvert_exporter": "python",
   "pygments_lexer": "ipython3",
   "version": "3.10.9"
  },
  "orig_nbformat": 4
 },
 "nbformat": 4,
 "nbformat_minor": 2
}
